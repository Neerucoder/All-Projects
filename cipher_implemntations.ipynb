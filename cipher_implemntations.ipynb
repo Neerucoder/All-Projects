{
  "nbformat": 4,
  "nbformat_minor": 0,
  "metadata": {
    "colab": {
      "provenance": []
    },
    "kernelspec": {
      "name": "python3",
      "display_name": "Python 3"
    },
    "language_info": {
      "name": "python"
    }
  },
  "cells": [
    {
      "cell_type": "code",
      "execution_count": 3,
      "metadata": {
        "colab": {
          "base_uri": "https://localhost:8080/"
        },
        "id": "rfbOqQxkK1Fu",
        "outputId": "f12295ad-ea2b-4cf1-fc8a-aab233e00f9c"
      },
      "outputs": [
        {
          "output_type": "stream",
          "name": "stdout",
          "text": [
            "Test Reverse Cipher\n",
            "rehpiC esreveR tseT\n"
          ]
        }
      ],
      "source": [
        "#Reverse Chipher \"Hello\" to \"elloH\"\n",
        "message = str(input())\n",
        "length = len(message) - 1\n",
        "new_message = \"\"\n",
        "while length>=0:\n",
        "  new_message = new_message + message[length]\n",
        "  length = length - 1\n",
        "print(new_message)"
      ]
    },
    {
      "cell_type": "code",
      "source": [
        "#Ceasar Cipher\n",
        "def encrypt(text,s):\n",
        "  result=\"\"\n",
        "  for i in range(len(text)):\n",
        "    char=text[i]\n",
        "    if char.isupper():\n",
        "      result += chr((ord(char) + s-65) % 26 + 65)\n",
        "    else:\n",
        "      result += chr((ord(char) + s - 97) % 26 + 97)\n",
        "  return result\n",
        "\n",
        "s = 4\n",
        "test = \"Test Caesar Cipher\"\n",
        "result = encrypt(test,s)\n",
        "print(result)"
      ],
      "metadata": {
        "colab": {
          "base_uri": "https://localhost:8080/"
        },
        "id": "kMACpG0sMRWK",
        "outputId": "a594c4a0-f959-4eb7-9163-ea863d0bac17"
      },
      "execution_count": 6,
      "outputs": [
        {
          "output_type": "stream",
          "name": "stdout",
          "text": [
            "XiwxrGeiwevrGmtliv\n"
          ]
        }
      ]
    },
    {
      "cell_type": "code",
      "source": [
        "#ROT 13\n",
        "def rot13(text):\n",
        "    result = []\n",
        "    for char in text:\n",
        "        if 'a' <= char <= 'z':\n",
        "\n",
        "            offset = ord('a')\n",
        "            result.append(chr((ord(char) - offset + 13) % 26 + offset))\n",
        "        elif 'A' <= char <= 'Z':\n",
        "\n",
        "            offset = ord('A')\n",
        "            result.append(chr((ord(char) - offset + 13) % 26 + offset))\n",
        "        else:\n",
        "\n",
        "            result.append(char)\n",
        "    return ''.join(result)\n",
        "\n",
        "test = str(input())\n",
        "result = rot13(test)\n",
        "print(result)"
      ],
      "metadata": {
        "colab": {
          "base_uri": "https://localhost:8080/"
        },
        "id": "zYzXI7j5m8qS",
        "outputId": "43d8f848-07bc-4e3a-9423-311b45514184"
      },
      "execution_count": 10,
      "outputs": [
        {
          "output_type": "stream",
          "name": "stdout",
          "text": [
            "Test Rot13 Cipher\n",
            "Grfg Ebg13 Pvcure\n"
          ]
        }
      ]
    },
    {
      "cell_type": "code",
      "source": [
        "# Transposition Cipher\n",
        "def split_len"
      ],
      "metadata": {
        "id": "geiwVOw5oQGu"
      },
      "execution_count": null,
      "outputs": []
    }
  ]
}